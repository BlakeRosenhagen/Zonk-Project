{
 "cells": [
  {
   "cell_type": "code",
   "execution_count": 1,
   "metadata": {},
   "outputs": [],
   "source": [
    "import numpy as np"
   ]
  },
  {
   "cell_type": "code",
   "execution_count": 51,
   "metadata": {},
   "outputs": [],
   "source": [
    "def roller(dice_sides=6,dice_num=6):\n",
    "    dice_sides += 1 \n",
    "    rolled = np.random.randint(1,dice_sides,size=dice_num)\n",
    "    return rolled"
   ]
  },
  {
   "cell_type": "code",
   "execution_count": 187,
   "metadata": {},
   "outputs": [
    {
     "data": {
      "text/plain": [
       "array([5, 3, 2, 4, 2, 2])"
      ]
     },
     "execution_count": 187,
     "metadata": {},
     "output_type": "execute_result"
    }
   ],
   "source": [
    "rolled = roller()\n",
    "rolled"
   ]
  },
  {
   "cell_type": "code",
   "execution_count": 190,
   "metadata": {},
   "outputs": [
    {
     "data": {
      "text/plain": [
       "[0, 3, 1, 1, 1, 0]"
      ]
     },
     "execution_count": 190,
     "metadata": {},
     "output_type": "execute_result"
    }
   ],
   "source": [
    "def freq_roll(rolled):\n",
    "    freq = [0]*6\n",
    "    for i, count in enumerate(rolled):\n",
    "        freq[count-1] += 1\n",
    "    return freq\n",
    "freq_roll(rolled)"
   ]
  },
  {
   "cell_type": "code",
   "execution_count": 188,
   "metadata": {},
   "outputs": [],
   "source": [
    "def scorer(rolled):\n",
    "    score = 0\n",
    "    twopairs = 0\n",
    "    straight = [1]*6\n",
    "    freq = freq_roll(rolled)\n",
    "    for i, count in enumerate(freq):\n",
    "        temp_score = 0\n",
    "        if count >= 3:\n",
    "            temp = 0\n",
    "            #base_values = [1000,200,300,400,500,600]\n",
    "            temp =+ 100*(i+1)*(count-2)\n",
    "            if i == 0: temp*=10\n",
    "            temp_score += temp\n",
    "        elif count == 2:\n",
    "            temp = 0\n",
    "            twopairs += 1\n",
    "            if i == 0 : temp += 100*count\n",
    "            elif i == 4 : temp += 50*count\n",
    "            temp_score += temp\n",
    "        elif count == 1:\n",
    "            temp = 0\n",
    "            straight[i] = 1\n",
    "            if i == 0 : temp += 100*count\n",
    "            elif i == 4 : temp += 50*count\n",
    "            temp_score += temp\n",
    "        else: straight[i] = 0\n",
    "        score += temp_score\n",
    "    if twopairs == 3: score = 1000\n",
    "    elif sum(straight) ==5:\n",
    "        if  not straight[1] == 0 or not straight[4] == 0: score = 1500\n",
    "    elif sum(straight) == 6: score = 3000\n",
    "    return score"
   ]
  },
  {
   "cell_type": "code",
   "execution_count": 189,
   "metadata": {},
   "outputs": [
    {
     "name": "stdout",
     "output_type": "stream",
     "text": [
      "c1_200\n",
      "c2_0\n",
      "c2_0\n",
      "c2_50\n"
     ]
    },
    {
     "data": {
      "text/plain": [
       "250"
      ]
     },
     "execution_count": 189,
     "metadata": {},
     "output_type": "execute_result"
    }
   ],
   "source": [
    "scorer(rolled)"
   ]
  },
  {
   "cell_type": "code",
   "execution_count": 191,
   "metadata": {},
   "outputs": [],
   "source": [
    "round1 = {\n",
    "    \"dicedata\": {\n",
    "        \"turn1\": {\n",
    "            \"held\": [],\n",
    "            \"roll\": [],\n",
    "            \"save\": [],\n",
    "        },\n",
    "        \"turn2\": {\n",
    "            \"held\": [],\n",
    "            \"roll\": [],\n",
    "            \"save\": [],\n",
    "        },\n",
    "        \"turn3\": {\n",
    "            \"held\": [],\n",
    "            \"roll\": [],\n",
    "            \"save\": [],\n",
    "        },\n",
    "        \"turn4\": {\n",
    "            \"held\": [],\n",
    "            \"roll\": [],\n",
    "            \"save\": [],\n",
    "        },\n",
    "        \"turn5\": {\n",
    "            \"held\": [],\n",
    "            \"roll\": [],\n",
    "            \"save\": [],\n",
    "        },\n",
    "        \"turn6\": {\n",
    "            \"held\": [],\n",
    "            \"roll\": [],\n",
    "            \"save\": [],\n",
    "        },\n",
    "    },    \n",
    "    \"score\": score  \n",
    "}"
   ]
  },
  {
   "cell_type": "code",
   "execution_count": 194,
   "metadata": {},
   "outputs": [
    {
     "data": {
      "text/plain": [
       "dict"
      ]
     },
     "execution_count": 194,
     "metadata": {},
     "output_type": "execute_result"
    }
   ],
   "source": [
    "type(round1[\"dicedata\"][\"turn5\"])"
   ]
  },
  {
   "cell_type": "code",
   "execution_count": 199,
   "metadata": {},
   "outputs": [],
   "source": [
    "round2 = [\n",
    "    [             #turns\n",
    "        [],\n",
    "        [],\n",
    "        [],\n",
    "        [],\n",
    "        [],\n",
    "        [],\n",
    "    ],\n",
    "    []           #score\n",
    "]"
   ]
  },
  {
   "cell_type": "code",
   "execution_count": 198,
   "metadata": {},
   "outputs": [
    {
     "data": {
      "text/plain": [
       "6"
      ]
     },
     "execution_count": 198,
     "metadata": {},
     "output_type": "execute_result"
    }
   ],
   "source": [
    "len(round2[0])"
   ]
  },
  {
   "cell_type": "code",
   "execution_count": 202,
   "metadata": {},
   "outputs": [
    {
     "ename": "SyntaxError",
     "evalue": "invalid syntax (<ipython-input-202-fbfb8cb3b017>, line 5)",
     "output_type": "error",
     "traceback": [
      "\u001b[1;36m  File \u001b[1;32m\"<ipython-input-202-fbfb8cb3b017>\"\u001b[1;36m, line \u001b[1;32m5\u001b[0m\n\u001b[1;33m    tempscore =score\u001b[0m\n\u001b[1;37m              ^\u001b[0m\n\u001b[1;31mSyntaxError\u001b[0m\u001b[1;31m:\u001b[0m invalid syntax\n"
     ]
    }
   ],
   "source": [
    "dicemakeup = {\n",
    "    \"held\": [],\n",
    "    \"roll\": [],\n",
    "    \"save\": [],\n",
    "    \"tempscore\":score\n",
    "}"
   ]
  },
  {
   "cell_type": "code",
   "execution_count": 205,
   "metadata": {},
   "outputs": [],
   "source": [
    "dicemakeup2 = {\n",
    "    \"turn1\":[],\n",
    "    \"turn2\":[],\n",
    "    \"turn3\":[],\n",
    "    \"turn4\":[],\n",
    "    \"turn5\":[],\n",
    "    \"turn6\":[],\n",
    "}"
   ]
  },
  {
   "cell_type": "code",
   "execution_count": null,
   "metadata": {},
   "outputs": [],
   "source": [
    "#other data\n",
    "num dice saved in turn_x\n",
    "total turns\n",
    "freq, distri, mean of saves on turn_x\n"
   ]
  },
  {
   "cell_type": "code",
   "execution_count": null,
   "metadata": {},
   "outputs": [],
   "source": [
    "saved_data = {\n",
    "    \"saved_in_turn1\": \n",
    "}"
   ]
  },
  {
   "cell_type": "markdown",
   "metadata": {},
   "source": [
    "# Data Generation"
   ]
  },
  {
   "cell_type": "code",
   "execution_count": null,
   "metadata": {},
   "outputs": [],
   "source": []
  }
 ],
 "metadata": {
  "kernelspec": {
   "display_name": "Python 3",
   "language": "python",
   "name": "python3"
  },
  "language_info": {
   "codemirror_mode": {
    "name": "ipython",
    "version": 3
   },
   "file_extension": ".py",
   "mimetype": "text/x-python",
   "name": "python",
   "nbconvert_exporter": "python",
   "pygments_lexer": "ipython3",
   "version": "3.7.3"
  }
 },
 "nbformat": 4,
 "nbformat_minor": 2
}
